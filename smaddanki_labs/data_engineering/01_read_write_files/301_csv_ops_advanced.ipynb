{
 "cells": [
  {
   "cell_type": "markdown",
   "metadata": {},
   "source": [
    "# CSV Ops - Advanced"
   ]
  },
  {
   "cell_type": "markdown",
   "metadata": {},
   "source": [
    "## Parsing CSV files with multi-line fields\n",
    "## Handling CSV files with hierarchical data\n",
    "## Reading CSV files with mixed data types in columns\n",
    "## Preprocessing data during CSV importmns\n",
    "## Combining multiple CSV files during import\n",
    "## Handling CSV files with duplicate column names\n",
    "## Reading CSV files with custom line terminators"
   ]
  },
  {
   "cell_type": "markdown",
   "metadata": {},
   "source": []
  }
 ],
 "metadata": {
  "kernelspec": {
   "display_name": "veda",
   "language": "python",
   "name": "python3"
  },
  "language_info": {
   "codemirror_mode": {
    "name": "ipython",
    "version": 3
   },
   "file_extension": ".py",
   "mimetype": "text/x-python",
   "name": "python",
   "nbconvert_exporter": "python",
   "pygments_lexer": "ipython3",
   "version": "3.12.7"
  }
 },
 "nbformat": 4,
 "nbformat_minor": 2
}
